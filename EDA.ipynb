{
 "cells": [
  {
   "cell_type": "code",
   "execution_count": 1,
   "metadata": {},
   "outputs": [],
   "source": [
    "import pandas as pd\n",
    "import seaborn as sns\n",
    "import matplotlib.pyplot as plt\n",
    "from scipy.stats import zscore"
   ]
  },
  {
   "cell_type": "markdown",
   "metadata": {},
   "source": [
    "# EDA"
   ]
  },
  {
   "cell_type": "markdown",
   "metadata": {},
   "source": [
    "# Cargo mis archivos finales"
   ]
  },
  {
   "cell_type": "code",
   "execution_count": 2,
   "metadata": {},
   "outputs": [],
   "source": [
    "df_games = pd.read_csv('./gamesF.csv')\n",
    "df_items = pd.read_csv('./itemsF.csv')\n",
    "df_reviews = pd.read_csv('./reviewsF.csv')\n",
    "df_genres = pd.read_csv('./genres.csv')"
   ]
  },
  {
   "cell_type": "markdown",
   "metadata": {},
   "source": [
    "# Visualizar los datasets resultantes"
   ]
  },
  {
   "cell_type": "code",
   "execution_count": 3,
   "metadata": {},
   "outputs": [
    {
     "data": {
      "text/html": [
       "<div>\n",
       "<style scoped>\n",
       "    .dataframe tbody tr th:only-of-type {\n",
       "        vertical-align: middle;\n",
       "    }\n",
       "\n",
       "    .dataframe tbody tr th {\n",
       "        vertical-align: top;\n",
       "    }\n",
       "\n",
       "    .dataframe thead th {\n",
       "        text-align: right;\n",
       "    }\n",
       "</style>\n",
       "<table border=\"1\" class=\"dataframe\">\n",
       "  <thead>\n",
       "    <tr style=\"text-align: right;\">\n",
       "      <th></th>\n",
       "      <th>app_name</th>\n",
       "      <th>release_date</th>\n",
       "      <th>developer</th>\n",
       "      <th>item_id</th>\n",
       "      <th>price</th>\n",
       "    </tr>\n",
       "  </thead>\n",
       "  <tbody>\n",
       "    <tr>\n",
       "      <th>0</th>\n",
       "      <td>Lost Summoner Kitty</td>\n",
       "      <td>2018</td>\n",
       "      <td>Kotoshiro</td>\n",
       "      <td>761140.0</td>\n",
       "      <td>4.99</td>\n",
       "    </tr>\n",
       "    <tr>\n",
       "      <th>1</th>\n",
       "      <td>Ironbound</td>\n",
       "      <td>2018</td>\n",
       "      <td>Secret Level SRL</td>\n",
       "      <td>643980.0</td>\n",
       "      <td>0.00</td>\n",
       "    </tr>\n",
       "    <tr>\n",
       "      <th>2</th>\n",
       "      <td>Real Pool 3D - Poolians</td>\n",
       "      <td>2017</td>\n",
       "      <td>Poolians.com</td>\n",
       "      <td>670290.0</td>\n",
       "      <td>0.00</td>\n",
       "    </tr>\n",
       "    <tr>\n",
       "      <th>3</th>\n",
       "      <td>弹炸人2222</td>\n",
       "      <td>2017</td>\n",
       "      <td>彼岸领域</td>\n",
       "      <td>767400.0</td>\n",
       "      <td>0.99</td>\n",
       "    </tr>\n",
       "    <tr>\n",
       "      <th>4</th>\n",
       "      <td>Battle Royale Trainer</td>\n",
       "      <td>2018</td>\n",
       "      <td>Trickjump Games Ltd</td>\n",
       "      <td>772540.0</td>\n",
       "      <td>3.99</td>\n",
       "    </tr>\n",
       "    <tr>\n",
       "      <th>5</th>\n",
       "      <td>SNOW - All Access Basic Pass</td>\n",
       "      <td>2018</td>\n",
       "      <td>Poppermost Productions</td>\n",
       "      <td>774276.0</td>\n",
       "      <td>9.99</td>\n",
       "    </tr>\n",
       "    <tr>\n",
       "      <th>6</th>\n",
       "      <td>SNOW - All Access Pro Pass</td>\n",
       "      <td>2018</td>\n",
       "      <td>Poppermost Productions</td>\n",
       "      <td>774277.0</td>\n",
       "      <td>18.99</td>\n",
       "    </tr>\n",
       "    <tr>\n",
       "      <th>7</th>\n",
       "      <td>SNOW - All Access Legend Pass</td>\n",
       "      <td>2018</td>\n",
       "      <td>Poppermost Productions</td>\n",
       "      <td>774278.0</td>\n",
       "      <td>29.99</td>\n",
       "    </tr>\n",
       "    <tr>\n",
       "      <th>8</th>\n",
       "      <td>Race</td>\n",
       "      <td>2018</td>\n",
       "      <td>RewindApp</td>\n",
       "      <td>768800.0</td>\n",
       "      <td>-10.00</td>\n",
       "    </tr>\n",
       "    <tr>\n",
       "      <th>9</th>\n",
       "      <td>Uncanny Islands</td>\n",
       "      <td>1900</td>\n",
       "      <td>Qucheza</td>\n",
       "      <td>768570.0</td>\n",
       "      <td>-10.00</td>\n",
       "    </tr>\n",
       "    <tr>\n",
       "      <th>10</th>\n",
       "      <td>Army of Tentacles: (Not) A Cthulhu Dating Sim:...</td>\n",
       "      <td>2018</td>\n",
       "      <td>Stegalosaurus Game Development</td>\n",
       "      <td>770380.0</td>\n",
       "      <td>10.99</td>\n",
       "    </tr>\n",
       "  </tbody>\n",
       "</table>\n",
       "</div>"
      ],
      "text/plain": [
       "                                             app_name  release_date  \\\n",
       "0                                 Lost Summoner Kitty          2018   \n",
       "1                                           Ironbound          2018   \n",
       "2                             Real Pool 3D - Poolians          2017   \n",
       "3                                             弹炸人2222          2017   \n",
       "4                               Battle Royale Trainer          2018   \n",
       "5                        SNOW - All Access Basic Pass          2018   \n",
       "6                          SNOW - All Access Pro Pass          2018   \n",
       "7                       SNOW - All Access Legend Pass          2018   \n",
       "8                                                Race          2018   \n",
       "9                                     Uncanny Islands          1900   \n",
       "10  Army of Tentacles: (Not) A Cthulhu Dating Sim:...          2018   \n",
       "\n",
       "                         developer   item_id  price  \n",
       "0                        Kotoshiro  761140.0   4.99  \n",
       "1                 Secret Level SRL  643980.0   0.00  \n",
       "2                     Poolians.com  670290.0   0.00  \n",
       "3                             彼岸领域  767400.0   0.99  \n",
       "4              Trickjump Games Ltd  772540.0   3.99  \n",
       "5           Poppermost Productions  774276.0   9.99  \n",
       "6           Poppermost Productions  774277.0  18.99  \n",
       "7           Poppermost Productions  774278.0  29.99  \n",
       "8                        RewindApp  768800.0 -10.00  \n",
       "9                          Qucheza  768570.0 -10.00  \n",
       "10  Stegalosaurus Game Development  770380.0  10.99  "
      ]
     },
     "execution_count": 3,
     "metadata": {},
     "output_type": "execute_result"
    }
   ],
   "source": [
    "df_games.head(11)"
   ]
  },
  {
   "cell_type": "code",
   "execution_count": 5,
   "metadata": {},
   "outputs": [
    {
     "data": {
      "text/html": [
       "<div>\n",
       "<style scoped>\n",
       "    .dataframe tbody tr th:only-of-type {\n",
       "        vertical-align: middle;\n",
       "    }\n",
       "\n",
       "    .dataframe tbody tr th {\n",
       "        vertical-align: top;\n",
       "    }\n",
       "\n",
       "    .dataframe thead th {\n",
       "        text-align: right;\n",
       "    }\n",
       "</style>\n",
       "<table border=\"1\" class=\"dataframe\">\n",
       "  <thead>\n",
       "    <tr style=\"text-align: right;\">\n",
       "      <th></th>\n",
       "      <th>user_id</th>\n",
       "      <th>item_id</th>\n",
       "      <th>playtime_forever</th>\n",
       "    </tr>\n",
       "  </thead>\n",
       "  <tbody>\n",
       "    <tr>\n",
       "      <th>0</th>\n",
       "      <td>76561197970982479</td>\n",
       "      <td>10.0</td>\n",
       "      <td>6.0</td>\n",
       "    </tr>\n",
       "    <tr>\n",
       "      <th>1</th>\n",
       "      <td>76561197970982479</td>\n",
       "      <td>30.0</td>\n",
       "      <td>7.0</td>\n",
       "    </tr>\n",
       "    <tr>\n",
       "      <th>2</th>\n",
       "      <td>76561197970982479</td>\n",
       "      <td>300.0</td>\n",
       "      <td>4733.0</td>\n",
       "    </tr>\n",
       "    <tr>\n",
       "      <th>3</th>\n",
       "      <td>76561197970982479</td>\n",
       "      <td>240.0</td>\n",
       "      <td>1853.0</td>\n",
       "    </tr>\n",
       "    <tr>\n",
       "      <th>4</th>\n",
       "      <td>76561197970982479</td>\n",
       "      <td>3830.0</td>\n",
       "      <td>333.0</td>\n",
       "    </tr>\n",
       "  </tbody>\n",
       "</table>\n",
       "</div>"
      ],
      "text/plain": [
       "             user_id  item_id  playtime_forever\n",
       "0  76561197970982479     10.0               6.0\n",
       "1  76561197970982479     30.0               7.0\n",
       "2  76561197970982479    300.0            4733.0\n",
       "3  76561197970982479    240.0            1853.0\n",
       "4  76561197970982479   3830.0             333.0"
      ]
     },
     "execution_count": 5,
     "metadata": {},
     "output_type": "execute_result"
    }
   ],
   "source": [
    "df_items.head()"
   ]
  },
  {
   "cell_type": "code",
   "execution_count": 6,
   "metadata": {},
   "outputs": [
    {
     "data": {
      "text/html": [
       "<div>\n",
       "<style scoped>\n",
       "    .dataframe tbody tr th:only-of-type {\n",
       "        vertical-align: middle;\n",
       "    }\n",
       "\n",
       "    .dataframe tbody tr th {\n",
       "        vertical-align: top;\n",
       "    }\n",
       "\n",
       "    .dataframe thead th {\n",
       "        text-align: right;\n",
       "    }\n",
       "</style>\n",
       "<table border=\"1\" class=\"dataframe\">\n",
       "  <thead>\n",
       "    <tr style=\"text-align: right;\">\n",
       "      <th></th>\n",
       "      <th>user_id</th>\n",
       "      <th>posted</th>\n",
       "      <th>item_id</th>\n",
       "      <th>recommend</th>\n",
       "      <th>sentiment_analysis</th>\n",
       "    </tr>\n",
       "  </thead>\n",
       "  <tbody>\n",
       "    <tr>\n",
       "      <th>0</th>\n",
       "      <td>76561197970982479</td>\n",
       "      <td>2011.0</td>\n",
       "      <td>1250</td>\n",
       "      <td>True</td>\n",
       "      <td>2</td>\n",
       "    </tr>\n",
       "    <tr>\n",
       "      <th>1</th>\n",
       "      <td>76561197970982479</td>\n",
       "      <td>2011.0</td>\n",
       "      <td>22200</td>\n",
       "      <td>True</td>\n",
       "      <td>2</td>\n",
       "    </tr>\n",
       "    <tr>\n",
       "      <th>2</th>\n",
       "      <td>76561197970982479</td>\n",
       "      <td>2011.0</td>\n",
       "      <td>43110</td>\n",
       "      <td>True</td>\n",
       "      <td>2</td>\n",
       "    </tr>\n",
       "    <tr>\n",
       "      <th>3</th>\n",
       "      <td>js41637</td>\n",
       "      <td>2014.0</td>\n",
       "      <td>251610</td>\n",
       "      <td>True</td>\n",
       "      <td>2</td>\n",
       "    </tr>\n",
       "    <tr>\n",
       "      <th>4</th>\n",
       "      <td>js41637</td>\n",
       "      <td>2013.0</td>\n",
       "      <td>227300</td>\n",
       "      <td>True</td>\n",
       "      <td>2</td>\n",
       "    </tr>\n",
       "  </tbody>\n",
       "</table>\n",
       "</div>"
      ],
      "text/plain": [
       "             user_id  posted  item_id  recommend  sentiment_analysis\n",
       "0  76561197970982479  2011.0     1250       True                   2\n",
       "1  76561197970982479  2011.0    22200       True                   2\n",
       "2  76561197970982479  2011.0    43110       True                   2\n",
       "3            js41637  2014.0   251610       True                   2\n",
       "4            js41637  2013.0   227300       True                   2"
      ]
     },
     "execution_count": 6,
     "metadata": {},
     "output_type": "execute_result"
    }
   ],
   "source": [
    "df_reviews.head()"
   ]
  },
  {
   "cell_type": "code",
   "execution_count": 7,
   "metadata": {},
   "outputs": [
    {
     "data": {
      "text/html": [
       "<div>\n",
       "<style scoped>\n",
       "    .dataframe tbody tr th:only-of-type {\n",
       "        vertical-align: middle;\n",
       "    }\n",
       "\n",
       "    .dataframe tbody tr th {\n",
       "        vertical-align: top;\n",
       "    }\n",
       "\n",
       "    .dataframe thead th {\n",
       "        text-align: right;\n",
       "    }\n",
       "</style>\n",
       "<table border=\"1\" class=\"dataframe\">\n",
       "  <thead>\n",
       "    <tr style=\"text-align: right;\">\n",
       "      <th></th>\n",
       "      <th>item_id</th>\n",
       "      <th>Indie</th>\n",
       "      <th>Action</th>\n",
       "      <th>Casual</th>\n",
       "      <th>Adventure</th>\n",
       "      <th>Strategy</th>\n",
       "      <th>Simulation</th>\n",
       "      <th>RPG</th>\n",
       "      <th>Free to Play</th>\n",
       "      <th>Early Access</th>\n",
       "      <th>Sports</th>\n",
       "      <th>Massively Multiplayer</th>\n",
       "      <th>Racing</th>\n",
       "    </tr>\n",
       "  </thead>\n",
       "  <tbody>\n",
       "    <tr>\n",
       "      <th>0</th>\n",
       "      <td>761140</td>\n",
       "      <td>1.0</td>\n",
       "      <td>1.0</td>\n",
       "      <td>1.0</td>\n",
       "      <td>0.0</td>\n",
       "      <td>1.0</td>\n",
       "      <td>1.0</td>\n",
       "      <td>0.0</td>\n",
       "      <td>0.0</td>\n",
       "      <td>0.0</td>\n",
       "      <td>0.0</td>\n",
       "      <td>0.0</td>\n",
       "      <td>0.0</td>\n",
       "    </tr>\n",
       "    <tr>\n",
       "      <th>1</th>\n",
       "      <td>643980</td>\n",
       "      <td>1.0</td>\n",
       "      <td>0.0</td>\n",
       "      <td>0.0</td>\n",
       "      <td>0.0</td>\n",
       "      <td>1.0</td>\n",
       "      <td>0.0</td>\n",
       "      <td>1.0</td>\n",
       "      <td>1.0</td>\n",
       "      <td>0.0</td>\n",
       "      <td>0.0</td>\n",
       "      <td>0.0</td>\n",
       "      <td>0.0</td>\n",
       "    </tr>\n",
       "    <tr>\n",
       "      <th>2</th>\n",
       "      <td>670290</td>\n",
       "      <td>1.0</td>\n",
       "      <td>0.0</td>\n",
       "      <td>1.0</td>\n",
       "      <td>0.0</td>\n",
       "      <td>0.0</td>\n",
       "      <td>1.0</td>\n",
       "      <td>0.0</td>\n",
       "      <td>1.0</td>\n",
       "      <td>0.0</td>\n",
       "      <td>1.0</td>\n",
       "      <td>0.0</td>\n",
       "      <td>0.0</td>\n",
       "    </tr>\n",
       "    <tr>\n",
       "      <th>3</th>\n",
       "      <td>767400</td>\n",
       "      <td>0.0</td>\n",
       "      <td>1.0</td>\n",
       "      <td>1.0</td>\n",
       "      <td>1.0</td>\n",
       "      <td>0.0</td>\n",
       "      <td>0.0</td>\n",
       "      <td>0.0</td>\n",
       "      <td>0.0</td>\n",
       "      <td>0.0</td>\n",
       "      <td>0.0</td>\n",
       "      <td>0.0</td>\n",
       "      <td>0.0</td>\n",
       "    </tr>\n",
       "    <tr>\n",
       "      <th>4</th>\n",
       "      <td>772540</td>\n",
       "      <td>0.0</td>\n",
       "      <td>1.0</td>\n",
       "      <td>0.0</td>\n",
       "      <td>1.0</td>\n",
       "      <td>0.0</td>\n",
       "      <td>1.0</td>\n",
       "      <td>0.0</td>\n",
       "      <td>0.0</td>\n",
       "      <td>0.0</td>\n",
       "      <td>0.0</td>\n",
       "      <td>0.0</td>\n",
       "      <td>0.0</td>\n",
       "    </tr>\n",
       "    <tr>\n",
       "      <th>5</th>\n",
       "      <td>774276</td>\n",
       "      <td>1.0</td>\n",
       "      <td>0.0</td>\n",
       "      <td>0.0</td>\n",
       "      <td>0.0</td>\n",
       "      <td>0.0</td>\n",
       "      <td>1.0</td>\n",
       "      <td>0.0</td>\n",
       "      <td>1.0</td>\n",
       "      <td>0.0</td>\n",
       "      <td>1.0</td>\n",
       "      <td>0.0</td>\n",
       "      <td>0.0</td>\n",
       "    </tr>\n",
       "    <tr>\n",
       "      <th>6</th>\n",
       "      <td>774277</td>\n",
       "      <td>1.0</td>\n",
       "      <td>0.0</td>\n",
       "      <td>0.0</td>\n",
       "      <td>0.0</td>\n",
       "      <td>0.0</td>\n",
       "      <td>1.0</td>\n",
       "      <td>0.0</td>\n",
       "      <td>1.0</td>\n",
       "      <td>0.0</td>\n",
       "      <td>1.0</td>\n",
       "      <td>0.0</td>\n",
       "      <td>0.0</td>\n",
       "    </tr>\n",
       "    <tr>\n",
       "      <th>7</th>\n",
       "      <td>774278</td>\n",
       "      <td>1.0</td>\n",
       "      <td>0.0</td>\n",
       "      <td>0.0</td>\n",
       "      <td>0.0</td>\n",
       "      <td>0.0</td>\n",
       "      <td>1.0</td>\n",
       "      <td>0.0</td>\n",
       "      <td>1.0</td>\n",
       "      <td>0.0</td>\n",
       "      <td>1.0</td>\n",
       "      <td>0.0</td>\n",
       "      <td>0.0</td>\n",
       "    </tr>\n",
       "    <tr>\n",
       "      <th>8</th>\n",
       "      <td>768800</td>\n",
       "      <td>1.0</td>\n",
       "      <td>0.0</td>\n",
       "      <td>1.0</td>\n",
       "      <td>0.0</td>\n",
       "      <td>0.0</td>\n",
       "      <td>1.0</td>\n",
       "      <td>0.0</td>\n",
       "      <td>0.0</td>\n",
       "      <td>0.0</td>\n",
       "      <td>0.0</td>\n",
       "      <td>0.0</td>\n",
       "      <td>1.0</td>\n",
       "    </tr>\n",
       "    <tr>\n",
       "      <th>9</th>\n",
       "      <td>768570</td>\n",
       "      <td>1.0</td>\n",
       "      <td>1.0</td>\n",
       "      <td>0.0</td>\n",
       "      <td>0.0</td>\n",
       "      <td>0.0</td>\n",
       "      <td>1.0</td>\n",
       "      <td>0.0</td>\n",
       "      <td>0.0</td>\n",
       "      <td>1.0</td>\n",
       "      <td>0.0</td>\n",
       "      <td>0.0</td>\n",
       "      <td>0.0</td>\n",
       "    </tr>\n",
       "    <tr>\n",
       "      <th>10</th>\n",
       "      <td>770380</td>\n",
       "      <td>1.0</td>\n",
       "      <td>1.0</td>\n",
       "      <td>1.0</td>\n",
       "      <td>1.0</td>\n",
       "      <td>0.0</td>\n",
       "      <td>0.0</td>\n",
       "      <td>1.0</td>\n",
       "      <td>0.0</td>\n",
       "      <td>0.0</td>\n",
       "      <td>0.0</td>\n",
       "      <td>0.0</td>\n",
       "      <td>0.0</td>\n",
       "    </tr>\n",
       "  </tbody>\n",
       "</table>\n",
       "</div>"
      ],
      "text/plain": [
       "    item_id  Indie  Action  Casual  Adventure  Strategy  Simulation  RPG  \\\n",
       "0    761140    1.0     1.0     1.0        0.0       1.0         1.0  0.0   \n",
       "1    643980    1.0     0.0     0.0        0.0       1.0         0.0  1.0   \n",
       "2    670290    1.0     0.0     1.0        0.0       0.0         1.0  0.0   \n",
       "3    767400    0.0     1.0     1.0        1.0       0.0         0.0  0.0   \n",
       "4    772540    0.0     1.0     0.0        1.0       0.0         1.0  0.0   \n",
       "5    774276    1.0     0.0     0.0        0.0       0.0         1.0  0.0   \n",
       "6    774277    1.0     0.0     0.0        0.0       0.0         1.0  0.0   \n",
       "7    774278    1.0     0.0     0.0        0.0       0.0         1.0  0.0   \n",
       "8    768800    1.0     0.0     1.0        0.0       0.0         1.0  0.0   \n",
       "9    768570    1.0     1.0     0.0        0.0       0.0         1.0  0.0   \n",
       "10   770380    1.0     1.0     1.0        1.0       0.0         0.0  1.0   \n",
       "\n",
       "    Free to Play  Early Access  Sports  Massively Multiplayer  Racing  \n",
       "0            0.0           0.0     0.0                    0.0     0.0  \n",
       "1            1.0           0.0     0.0                    0.0     0.0  \n",
       "2            1.0           0.0     1.0                    0.0     0.0  \n",
       "3            0.0           0.0     0.0                    0.0     0.0  \n",
       "4            0.0           0.0     0.0                    0.0     0.0  \n",
       "5            1.0           0.0     1.0                    0.0     0.0  \n",
       "6            1.0           0.0     1.0                    0.0     0.0  \n",
       "7            1.0           0.0     1.0                    0.0     0.0  \n",
       "8            0.0           0.0     0.0                    0.0     1.0  \n",
       "9            0.0           1.0     0.0                    0.0     0.0  \n",
       "10           0.0           0.0     0.0                    0.0     0.0  "
      ]
     },
     "execution_count": 7,
     "metadata": {},
     "output_type": "execute_result"
    }
   ],
   "source": [
    "df_genres.head(11)"
   ]
  },
  {
   "cell_type": "markdown",
   "metadata": {},
   "source": [
    "# junto los diferentes datasets"
   ]
  },
  {
   "cell_type": "code",
   "execution_count": 11,
   "metadata": {},
   "outputs": [],
   "source": [
    "Items_genre = df_items.merge(df_genres, on='item_id', how='inner')\n",
    "games_genre = df_games.merge(df_genres, on='item_id', how='inner')\n",
    "reviews_genre = df_reviews.merge(df_genres, on='item_id', how='inner')"
   ]
  },
  {
   "cell_type": "code",
   "execution_count": 12,
   "metadata": {},
   "outputs": [],
   "source": [
    "def uso_memoria(df):\n",
    "    # Obtener el uso de memoria del DataFrame\n",
    "    uso_de_memoria = df.memory_usage(deep=True).sum()\n",
    "    # Convertir bytes a megabytes (opcional)\n",
    "    uso_de_memoria_mb = uso_de_memoria / (1024**2)\n",
    "    print(f\"Uso de memoria total del DataFrame: {uso_de_memoria} bytes ({uso_de_memoria_mb:.2f} MB)\")"
   ]
  },
  {
   "cell_type": "code",
   "execution_count": 8,
   "metadata": {},
   "outputs": [
    {
     "data": {
      "text/html": [
       "<div>\n",
       "<style scoped>\n",
       "    .dataframe tbody tr th:only-of-type {\n",
       "        vertical-align: middle;\n",
       "    }\n",
       "\n",
       "    .dataframe tbody tr th {\n",
       "        vertical-align: top;\n",
       "    }\n",
       "\n",
       "    .dataframe thead th {\n",
       "        text-align: right;\n",
       "    }\n",
       "</style>\n",
       "<table border=\"1\" class=\"dataframe\">\n",
       "  <thead>\n",
       "    <tr style=\"text-align: right;\">\n",
       "      <th></th>\n",
       "      <th>user_id</th>\n",
       "      <th>item_id</th>\n",
       "      <th>playtime_forever</th>\n",
       "      <th>Indie</th>\n",
       "      <th>Action</th>\n",
       "      <th>Casual</th>\n",
       "      <th>Adventure</th>\n",
       "      <th>Strategy</th>\n",
       "      <th>Simulation</th>\n",
       "      <th>RPG</th>\n",
       "      <th>Free to Play</th>\n",
       "      <th>Early Access</th>\n",
       "      <th>Sports</th>\n",
       "      <th>Massively Multiplayer</th>\n",
       "      <th>Racing</th>\n",
       "    </tr>\n",
       "  </thead>\n",
       "  <tbody>\n",
       "    <tr>\n",
       "      <th>0</th>\n",
       "      <td>76561197970982479</td>\n",
       "      <td>10.0</td>\n",
       "      <td>6.0</td>\n",
       "      <td>0.0</td>\n",
       "      <td>1.0</td>\n",
       "      <td>0.0</td>\n",
       "      <td>0.0</td>\n",
       "      <td>0.0</td>\n",
       "      <td>0.0</td>\n",
       "      <td>0.0</td>\n",
       "      <td>0.0</td>\n",
       "      <td>0.0</td>\n",
       "      <td>0.0</td>\n",
       "      <td>0.0</td>\n",
       "      <td>0.0</td>\n",
       "    </tr>\n",
       "    <tr>\n",
       "      <th>1</th>\n",
       "      <td>doctr</td>\n",
       "      <td>10.0</td>\n",
       "      <td>93.0</td>\n",
       "      <td>0.0</td>\n",
       "      <td>1.0</td>\n",
       "      <td>0.0</td>\n",
       "      <td>0.0</td>\n",
       "      <td>0.0</td>\n",
       "      <td>0.0</td>\n",
       "      <td>0.0</td>\n",
       "      <td>0.0</td>\n",
       "      <td>0.0</td>\n",
       "      <td>0.0</td>\n",
       "      <td>0.0</td>\n",
       "      <td>0.0</td>\n",
       "    </tr>\n",
       "  </tbody>\n",
       "</table>\n",
       "</div>"
      ],
      "text/plain": [
       "             user_id  item_id  playtime_forever  Indie  Action  Casual  \\\n",
       "0  76561197970982479     10.0               6.0    0.0     1.0     0.0   \n",
       "1              doctr     10.0              93.0    0.0     1.0     0.0   \n",
       "\n",
       "   Adventure  Strategy  Simulation  RPG  Free to Play  Early Access  Sports  \\\n",
       "0        0.0       0.0         0.0  0.0           0.0           0.0     0.0   \n",
       "1        0.0       0.0         0.0  0.0           0.0           0.0     0.0   \n",
       "\n",
       "   Massively Multiplayer  Racing  \n",
       "0                    0.0     0.0  \n",
       "1                    0.0     0.0  "
      ]
     },
     "execution_count": 8,
     "metadata": {},
     "output_type": "execute_result"
    }
   ],
   "source": [
    "Items_genre.head(2)"
   ]
  },
  {
   "cell_type": "code",
   "execution_count": 13,
   "metadata": {},
   "outputs": [
    {
     "name": "stdout",
     "output_type": "stream",
     "text": [
      "Uso de memoria total del DataFrame: 533799959 bytes (509.07 MB)\n"
     ]
    }
   ],
   "source": [
    "uso_memoria(Items_genre)"
   ]
  },
  {
   "cell_type": "markdown",
   "metadata": {},
   "source": [
    "Reduzco el tamaño de items con un sample para poder ejecutarlo en render"
   ]
  },
  {
   "cell_type": "code",
   "execution_count": 20,
   "metadata": {},
   "outputs": [],
   "source": [
    "df_items_reducido = df_items.sample(frac=0.2, random_state=42)  # Tomar una muestra aleatoria del 20% de las filas"
   ]
  },
  {
   "cell_type": "code",
   "execution_count": 21,
   "metadata": {},
   "outputs": [],
   "source": [
    "df_items_reducido_genre = df_items_reducido.merge(df_genres, on='item_id', how='inner')"
   ]
  },
  {
   "cell_type": "code",
   "execution_count": 22,
   "metadata": {},
   "outputs": [
    {
     "name": "stdout",
     "output_type": "stream",
     "text": [
      "Uso de memoria total del DataFrame: 106806661 bytes (101.86 MB)\n"
     ]
    }
   ],
   "source": [
    "uso_memoria(df_items_reducido_genre)"
   ]
  },
  {
   "cell_type": "code",
   "execution_count": 23,
   "metadata": {},
   "outputs": [],
   "source": [
    "# guardo el archivo con solo los generos en un csv\n",
    "nombre_archivo = \"./items_reducido.csv\"\n",
    "\n",
    "df_items_reducido.to_csv(nombre_archivo, index=False) "
   ]
  },
  {
   "cell_type": "code",
   "execution_count": 10,
   "metadata": {},
   "outputs": [
    {
     "name": "stdout",
     "output_type": "stream",
     "text": [
      "Uso de memoria total del DataFrame: 6583461 bytes (6.28 MB)\n"
     ]
    }
   ],
   "source": [
    "uso_memoria(games_genre)"
   ]
  },
  {
   "cell_type": "code",
   "execution_count": 11,
   "metadata": {},
   "outputs": [
    {
     "name": "stdout",
     "output_type": "stream",
     "text": [
      "Uso de memoria total del DataFrame: 8332531 bytes (7.95 MB)\n"
     ]
    }
   ],
   "source": [
    "uso_memoria(reviews_genre)"
   ]
  },
  {
   "cell_type": "markdown",
   "metadata": {},
   "source": [
    "# Análisis Descriptivo\n",
    "cpmienzo con un análisis descriptivo para entender los datos. "
   ]
  },
  {
   "cell_type": "code",
   "execution_count": 12,
   "metadata": {},
   "outputs": [
    {
     "name": "stdout",
     "output_type": "stream",
     "text": [
      "            item_id        precio\n",
      "count  3.008500e+04  30085.000000\n",
      "mean   4.440048e+05      8.486032\n",
      "std    1.842230e+05     15.907144\n",
      "min    1.000000e+01      0.000000\n",
      "25%    3.218300e+05      1.990000\n",
      "50%    4.383000e+05      4.990000\n",
      "75%    5.889700e+05      9.990000\n",
      "max    2.028850e+06    995.000000\n"
     ]
    }
   ],
   "source": [
    "# Descripción de df_games\n",
    "print(df_games.describe())"
   ]
  },
  {
   "cell_type": "code",
   "execution_count": 14,
   "metadata": {},
   "outputs": [
    {
     "data": {
      "text/plain": [
       "4.99      4062\n",
       "9.99      3624\n",
       "2.99      3327\n",
       "0.00      2840\n",
       "0.99      2529\n",
       "          ... \n",
       "16.06        1\n",
       "4.68         1\n",
       "131.40       1\n",
       "44.98        1\n",
       "160.91       1\n",
       "Name: precio, Length: 140, dtype: int64"
      ]
     },
     "execution_count": 14,
     "metadata": {},
     "output_type": "execute_result"
    }
   ],
   "source": [
    "#Comprobando la suposición anterior\n",
    "df_games['precio'].value_counts()"
   ]
  },
  {
   "cell_type": "markdown",
   "metadata": {},
   "source": [
    " Se ve que la media de Sentiment analisis es mayor a 1, por lo que deberia haber mas reviews positivas que negativas"
   ]
  },
  {
   "cell_type": "code",
   "execution_count": 15,
   "metadata": {},
   "outputs": [
    {
     "name": "stdout",
     "output_type": "stream",
     "text": [
      "             posted        item_id  sentiment_analysis\n",
      "count  49162.000000   49162.000000        49162.000000\n",
      "mean    2014.150157  155546.856068            1.482059\n",
      "std        0.841857  124539.512286            0.749642\n",
      "min     2010.000000      10.000000            0.000000\n",
      "25%     2014.000000    6910.000000            1.000000\n",
      "50%     2014.000000  209100.000000            2.000000\n",
      "75%     2015.000000  248405.000000            2.000000\n",
      "max     2015.000000  428880.000000            2.000000\n"
     ]
    }
   ],
   "source": [
    "# Descripción de df_reviews\n",
    "print(df_reviews.describe())"
   ]
  },
  {
   "cell_type": "code",
   "execution_count": 16,
   "metadata": {},
   "outputs": [
    {
     "data": {
      "text/plain": [
       "2    31375\n",
       "1    10111\n",
       "0     7676\n",
       "Name: sentiment_analysis, dtype: int64"
      ]
     },
     "execution_count": 16,
     "metadata": {},
     "output_type": "execute_result"
    }
   ],
   "source": [
    "df_reviews['sentiment_analysis'].value_counts()"
   ]
  },
  {
   "cell_type": "markdown",
   "metadata": {},
   "source": [
    "Histograma de la cantidad de sentimientos"
   ]
  },
  {
   "cell_type": "code",
   "execution_count": 18,
   "metadata": {},
   "outputs": [
    {
     "data": {
      "image/png": "[encoded data removed]",
      "text/plain": [
       "<Figure size 640x480 with 1 Axes>"
      ]
     },
     "metadata": {},
     "output_type": "display_data"
    }
   ],
   "source": [
    "\n",
    "sns.histplot(df_reviews['sentiment_analysis'], bins=20)\n",
    "plt.xlabel('Sentimiento')\n",
    "plt.ylabel('Cantidad')\n",
    "plt.show()"
   ]
  },
  {
   "cell_type": "markdown",
   "metadata": {},
   "source": [
    "# Reducción de dimensionalidad y miramos los valores finales de los generos"
   ]
  },
  {
   "cell_type": "code",
   "execution_count": 21,
   "metadata": {},
   "outputs": [],
   "source": [
    "#apilcando reduccion de dimensionalidad\n",
    "def red_dim(df):\n",
    "    df=df.drop(['item_id'],axis=1)\n",
    "    # Sumar las columnas y crear un DataFrame\n",
    "    sum_df = df.sum().reset_index()\n",
    "    sum_df.columns = ['Genre', 'Count']\n",
    "    # Convertir la columna \"Count\" a valores numéricos\n",
    "    sum_df['Count'] = pd.to_numeric(sum_df['Count'], errors='coerce')\n",
    "    # Ordenar el DataFrame por la columna \"Count\" de forma descendente\n",
    "    sorted_df = sum_df.sort_values(by='Count', ascending=False)\n",
    "    # Obtener los 20 géneros más comunes y sus recuentos\n",
    "    top_20 = sorted_df.head(20)\n",
    "    # Calcular el porcentaje de aparición de cada género\n",
    "    total_count = top_20['Count'].sum()\n",
    "    top_20['Percentage'] = (top_20['Count'] / total_count) * 100\n",
    "    # Imprimir los resultados\n",
    "    print(top_20)"
   ]
  },
  {
   "cell_type": "code",
   "execution_count": 22,
   "metadata": {},
   "outputs": [
    {
     "name": "stdout",
     "output_type": "stream",
     "text": [
      "                    Genre    Count  Percentage\n",
      "0                   Indie  15858.0   22.726361\n",
      "1                  Action  11320.0   16.222878\n",
      "2                  Casual   8282.0   11.869070\n",
      "3               Adventure   8242.0   11.811746\n",
      "4                Strategy   6957.0    9.970191\n",
      "5              Simulation   6699.0    9.600447\n",
      "6                     RPG   5479.0    7.852045\n",
      "7            Free to Play   2031.0    2.910660\n",
      "8            Early Access   1462.0    2.095216\n",
      "9                  Sports   1257.0    1.801427\n",
      "10  Massively Multiplayer   1108.0    1.587893\n",
      "11                 Racing   1083.0    1.552065\n"
     ]
    },
    {
     "name": "stderr",
     "output_type": "stream",
     "text": [
      "C:\\Users\\lgtqa\\AppData\\Local\\Temp\\ipykernel_13980\\1433727768.py:15: SettingWithCopyWarning: \n",
      "A value is trying to be set on a copy of a slice from a DataFrame.\n",
      "Try using .loc[row_indexer,col_indexer] = value instead\n",
      "\n",
      "See the caveats in the documentation: https://pandas.pydata.org/pandas-docs/stable/user_guide/indexing.html#returning-a-view-versus-a-copy\n",
      "  top_20['Percentage'] = (top_20['Count'] / total_count) * 100\n"
     ]
    }
   ],
   "source": [
    "red_dim(df_genres)"
   ]
  }
 ],
 "metadata": {
  "kernelspec": {
   "display_name": "base",
   "language": "python",
   "name": "python3"
  },
  "language_info": {
   "codemirror_mode": {
    "name": "ipython",
    "version": 3
   },
   "file_extension": ".py",
   "mimetype": "text/x-python",
   "name": "python",
   "nbconvert_exporter": "python",
   "pygments_lexer": "ipython3",
   "version": "3.11.3"
  },
  "orig_nbformat": 4
 },
 "nbformat": 4,
 "nbformat_minor": 2
}
